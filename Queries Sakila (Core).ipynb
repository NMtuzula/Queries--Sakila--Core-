{
 "cells": [
  {
   "cell_type": "code",
   "execution_count": null,
   "id": "8e9b01bb",
   "metadata": {},
   "outputs": [],
   "source": [
    "# number 1\n",
    "SELECT customer.first_name, customer.last_name, customer.email, address.address, address.city_id\n",
    "FROM customer, address\n",
    "where address.city_id = 312"
   ]
  },
  {
   "cell_type": "code",
   "execution_count": null,
   "id": "b8e70841",
   "metadata": {},
   "outputs": [],
   "source": [
    "# number 2\n",
    "SELECT category.name, film.title, film.description, film.release_year, film.rating, film.special_features\n",
    "FROM category, film\n",
    "where category.name = 'comdedy'"
   ]
  },
  {
   "cell_type": "code",
   "execution_count": null,
   "id": "2e7df92f",
   "metadata": {},
   "outputs": [],
   "source": [
    "# number 3\n",
    "SELECT actor.last_name, film.title, film.release_year\n",
    "FROM actor, film\n",
    "where actor.last_name = 'Lollobrigida'"
   ]
  },
  {
   "cell_type": "code",
   "execution_count": null,
   "id": "25c24c83",
   "metadata": {},
   "outputs": [],
   "source": [
    "# number 4\n",
    "SELECT actor.first_name, actor.last_name, film.title\n",
    "FROM actor, film\n",
    "where film.title = 'Bingo Talented'"
   ]
  },
  {
   "cell_type": "code",
   "execution_count": null,
   "id": "43a0559d",
   "metadata": {},
   "outputs": [],
   "source": [
    "# number 5\n",
    "SELECT customer,customer_id, payment.amount\n",
    "FROM customer, payment\n",
    "where payment.amount > 2 * (SELECT avg(payment.amount) FROM payment)"
   ]
  },
  {
   "cell_type": "code",
   "execution_count": null,
   "id": "d9813b49",
   "metadata": {},
   "outputs": [],
   "source": [
    "# number 6"
   ]
  }
 ],
 "metadata": {
  "kernelspec": {
   "display_name": "Python (dojo-env)",
   "language": "python",
   "name": "dojo-env"
  },
  "language_info": {
   "codemirror_mode": {
    "name": "ipython",
    "version": 3
   },
   "file_extension": ".py",
   "mimetype": "text/x-python",
   "name": "python",
   "nbconvert_exporter": "python",
   "pygments_lexer": "ipython3",
   "version": "3.11.5"
  }
 },
 "nbformat": 4,
 "nbformat_minor": 5
}
